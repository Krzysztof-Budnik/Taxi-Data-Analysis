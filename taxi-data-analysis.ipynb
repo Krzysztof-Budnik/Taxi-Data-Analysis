{
 "cells": [
  {
   "cell_type": "markdown",
   "metadata": {},
   "source": [
    "# **Analiza zbioru Taxi-dane**\n",
    "Krzysztof Budnik"
   ]
  },
  {
   "cell_type": "markdown",
   "metadata": {},
   "source": [
    "## **Importowanie modułów**\n",
    "Do przeprowadzenia anlizy niezbędne są pakiety, umożliwające analizę i wizualizację danych. </br>"
   ]
  },
  {
   "cell_type": "code",
   "execution_count": 2,
   "metadata": {},
   "outputs": [],
   "source": [
    "import pandas as pd \n",
    "import numpy as np\n",
    "import matplotlib.pyplot as plt\n",
    "import seaborn as sns"
   ]
  },
  {
   "cell_type": "markdown",
   "metadata": {},
   "source": [
    "## **Exploratory Data Analysis**\n",
    "Przed rozpoczęciem właściwej analizy konieczne jest przeprowadzenie EDA (Exploratory Data Analysis). <br>\n",
    "Podczas tego etapu zamierzam skupić sie następujących czynnościach:\n",
    "- przeanalizowanie struktury danych i zbadanie kolumn wchodzących w skład datasetu\n",
    "- zbadanie typów zmiennych (wprowadzenie ewentualnych dostosowań w celu umożliwienia przyszłych obliczeń)\n",
    "- sprawdzenie ilości brakujących wartości dla poszczególnych kolumn\n",
    "- sprawdzenie unikalnych wartości dla wybranych kolumn\n",
    "- usunięcie *ukrytych* brakujących wartości \n"
   ]
  },
  {
   "cell_type": "markdown",
   "metadata": {},
   "source": [
    "#### **Import danych i badanie kolumn**"
   ]
  },
  {
   "cell_type": "code",
   "execution_count": 3,
   "metadata": {},
   "outputs": [
    {
     "name": "stdout",
     "output_type": "stream",
     "text": [
      "Ilość wszystkich wprzejazdów w zbiorze danych: 100000\n"
     ]
    },
    {
     "name": "stderr",
     "output_type": "stream",
     "text": [
      "c:\\Users\\budcr\\AppData\\Local\\Programs\\Python\\Python310\\lib\\site-packages\\IPython\\core\\interactiveshell.py:3444: DtypeWarning: Columns (8) have mixed types.Specify dtype option on import or set low_memory=False.\n",
      "  exec(code_obj, self.user_global_ns, self.user_ns)\n"
     ]
    },
    {
     "data": {
      "text/html": [
       "<div>\n",
       "<style scoped>\n",
       "    .dataframe tbody tr th:only-of-type {\n",
       "        vertical-align: middle;\n",
       "    }\n",
       "\n",
       "    .dataframe tbody tr th {\n",
       "        vertical-align: top;\n",
       "    }\n",
       "\n",
       "    .dataframe thead th {\n",
       "        text-align: right;\n",
       "    }\n",
       "</style>\n",
       "<table border=\"1\" class=\"dataframe\">\n",
       "  <thead>\n",
       "    <tr style=\"text-align: right;\">\n",
       "      <th></th>\n",
       "      <th>unique_key</th>\n",
       "      <th>taxi_id</th>\n",
       "      <th>trip_start_timestamp</th>\n",
       "      <th>trip_end_timestamp</th>\n",
       "      <th>trip_seconds</th>\n",
       "      <th>trip_miles</th>\n",
       "      <th>pickup_census_tract</th>\n",
       "      <th>dropoff_census_tract</th>\n",
       "      <th>pickup_community_area</th>\n",
       "      <th>dropoff_community_area</th>\n",
       "      <th>...</th>\n",
       "      <th>payment_type</th>\n",
       "      <th>company</th>\n",
       "      <th>pickup_latitude</th>\n",
       "      <th>pickup_longitude</th>\n",
       "      <th>pickup_location</th>\n",
       "      <th>dropoff_latitude</th>\n",
       "      <th>dropoff_longitude</th>\n",
       "      <th>dropoff_location</th>\n",
       "      <th>year</th>\n",
       "      <th>month</th>\n",
       "    </tr>\n",
       "  </thead>\n",
       "  <tbody>\n",
       "    <tr>\n",
       "      <th>0</th>\n",
       "      <td>b57de4fbd42a4fcdfac294083ad896f9b3b19e30</td>\n",
       "      <td>1a0918b9bfea038d074d533672fa8d2a32a9b2628fbb34...</td>\n",
       "      <td>2013-10-01 00:00:00 UTC</td>\n",
       "      <td>2013-10-01 00:30:00 UTC</td>\n",
       "      <td>1800.0</td>\n",
       "      <td>1.49</td>\n",
       "      <td>NaN</td>\n",
       "      <td>NaN</td>\n",
       "      <td>32</td>\n",
       "      <td>out of town</td>\n",
       "      <td>...</td>\n",
       "      <td>Cash</td>\n",
       "      <td>no company name</td>\n",
       "      <td>41,878865584</td>\n",
       "      <td>-87,625192142</td>\n",
       "      <td>POINT (-87,6251921424 41,8788655841)</td>\n",
       "      <td>NaN</td>\n",
       "      <td>NaN</td>\n",
       "      <td>NaN</td>\n",
       "      <td>2013</td>\n",
       "      <td>10</td>\n",
       "    </tr>\n",
       "    <tr>\n",
       "      <th>1</th>\n",
       "      <td>7e0b8a1d91467a8b6c38503812ccf9ceaf81ae46</td>\n",
       "      <td>2fea69c8a6e08471bc4339a05e9ee7955bef68d791f77a...</td>\n",
       "      <td>2013-10-01 00:00:00 UTC</td>\n",
       "      <td>2013-10-01 00:15:00 UTC</td>\n",
       "      <td>900.0</td>\n",
       "      <td>8.00</td>\n",
       "      <td>NaN</td>\n",
       "      <td>NaN</td>\n",
       "      <td>28</td>\n",
       "      <td>3</td>\n",
       "      <td>...</td>\n",
       "      <td>Cash</td>\n",
       "      <td>no company name</td>\n",
       "      <td>41,874005383</td>\n",
       "      <td>-87,66351755</td>\n",
       "      <td>POINT (-87,6635175498 41,874005383)</td>\n",
       "      <td>41,96581197</td>\n",
       "      <td>-87,655878786</td>\n",
       "      <td>POINT (-87,6558787862 41,96581197)</td>\n",
       "      <td>2013</td>\n",
       "      <td>10</td>\n",
       "    </tr>\n",
       "    <tr>\n",
       "      <th>2</th>\n",
       "      <td>6f461021d891c897195a602bb6d0bc282f7cff30</td>\n",
       "      <td>061cabe01cfa6d1719184ef6316e77a21469d100eb70f1...</td>\n",
       "      <td>2013-10-01 00:15:00 UTC</td>\n",
       "      <td>2013-10-01 00:30:00 UTC</td>\n",
       "      <td>900.0</td>\n",
       "      <td>9.60</td>\n",
       "      <td>NaN</td>\n",
       "      <td>NaN</td>\n",
       "      <td>32</td>\n",
       "      <td>41</td>\n",
       "      <td>...</td>\n",
       "      <td>Cash</td>\n",
       "      <td>no company name</td>\n",
       "      <td>41,878865584</td>\n",
       "      <td>-87,625192142</td>\n",
       "      <td>POINT (-87,6251921424 41,8788655841)</td>\n",
       "      <td>41,794090253</td>\n",
       "      <td>-87,592310855</td>\n",
       "      <td>POINT (-87,592310855 41,794090253)</td>\n",
       "      <td>2013</td>\n",
       "      <td>10</td>\n",
       "    </tr>\n",
       "    <tr>\n",
       "      <th>3</th>\n",
       "      <td>ad92e39b524db2e5ca7e54df5db96d806261ed66</td>\n",
       "      <td>fc662712fcee7cc17c53c79bb57f09d0a612440700aa67...</td>\n",
       "      <td>2013-10-01 00:15:00 UTC</td>\n",
       "      <td>2013-10-01 00:30:00 UTC</td>\n",
       "      <td>1620.0</td>\n",
       "      <td>0.49</td>\n",
       "      <td>1.703108e+10</td>\n",
       "      <td>1.703133e+10</td>\n",
       "      <td>8</td>\n",
       "      <td>33</td>\n",
       "      <td>...</td>\n",
       "      <td>Cash</td>\n",
       "      <td>no company name</td>\n",
       "      <td>41,892507781</td>\n",
       "      <td>-87,626214906</td>\n",
       "      <td>POINT (-87,6262149064 41,8925077809)</td>\n",
       "      <td>41,859349715</td>\n",
       "      <td>-87,617358006</td>\n",
       "      <td>POINT (-87,6173580061 41,859349715)</td>\n",
       "      <td>2013</td>\n",
       "      <td>10</td>\n",
       "    </tr>\n",
       "    <tr>\n",
       "      <th>4</th>\n",
       "      <td>baf5ef44846907d5f0af6f0eb17ae25c784a80c0</td>\n",
       "      <td>873bacf70099d6c3eb461ab1946fcc8b47cfc95fe78c3b...</td>\n",
       "      <td>2013-10-01 00:30:00 UTC</td>\n",
       "      <td>2013-10-01 01:00:00 UTC</td>\n",
       "      <td>2220.0</td>\n",
       "      <td>32.50</td>\n",
       "      <td>NaN</td>\n",
       "      <td>NaN</td>\n",
       "      <td>8</td>\n",
       "      <td>out of town</td>\n",
       "      <td>...</td>\n",
       "      <td>Cash</td>\n",
       "      <td>no company name</td>\n",
       "      <td>41,899602111</td>\n",
       "      <td>-87,633308037</td>\n",
       "      <td>POINT (-87,6333080367 41,899602111)</td>\n",
       "      <td>NaN</td>\n",
       "      <td>NaN</td>\n",
       "      <td>NaN</td>\n",
       "      <td>2013</td>\n",
       "      <td>10</td>\n",
       "    </tr>\n",
       "  </tbody>\n",
       "</table>\n",
       "<p>5 rows × 25 columns</p>\n",
       "</div>"
      ],
      "text/plain": [
       "                                 unique_key  \\\n",
       "0  b57de4fbd42a4fcdfac294083ad896f9b3b19e30   \n",
       "1  7e0b8a1d91467a8b6c38503812ccf9ceaf81ae46   \n",
       "2  6f461021d891c897195a602bb6d0bc282f7cff30   \n",
       "3  ad92e39b524db2e5ca7e54df5db96d806261ed66   \n",
       "4  baf5ef44846907d5f0af6f0eb17ae25c784a80c0   \n",
       "\n",
       "                                             taxi_id     trip_start_timestamp  \\\n",
       "0  1a0918b9bfea038d074d533672fa8d2a32a9b2628fbb34...  2013-10-01 00:00:00 UTC   \n",
       "1  2fea69c8a6e08471bc4339a05e9ee7955bef68d791f77a...  2013-10-01 00:00:00 UTC   \n",
       "2  061cabe01cfa6d1719184ef6316e77a21469d100eb70f1...  2013-10-01 00:15:00 UTC   \n",
       "3  fc662712fcee7cc17c53c79bb57f09d0a612440700aa67...  2013-10-01 00:15:00 UTC   \n",
       "4  873bacf70099d6c3eb461ab1946fcc8b47cfc95fe78c3b...  2013-10-01 00:30:00 UTC   \n",
       "\n",
       "        trip_end_timestamp  trip_seconds  trip_miles  pickup_census_tract  \\\n",
       "0  2013-10-01 00:30:00 UTC        1800.0        1.49                  NaN   \n",
       "1  2013-10-01 00:15:00 UTC         900.0        8.00                  NaN   \n",
       "2  2013-10-01 00:30:00 UTC         900.0        9.60                  NaN   \n",
       "3  2013-10-01 00:30:00 UTC        1620.0        0.49         1.703108e+10   \n",
       "4  2013-10-01 01:00:00 UTC        2220.0       32.50                  NaN   \n",
       "\n",
       "   dropoff_census_tract pickup_community_area dropoff_community_area  ...  \\\n",
       "0                   NaN                    32            out of town  ...   \n",
       "1                   NaN                    28                      3  ...   \n",
       "2                   NaN                    32                     41  ...   \n",
       "3          1.703133e+10                     8                     33  ...   \n",
       "4                   NaN                     8            out of town  ...   \n",
       "\n",
       "   payment_type          company  pickup_latitude  pickup_longitude  \\\n",
       "0          Cash  no company name     41,878865584     -87,625192142   \n",
       "1          Cash  no company name     41,874005383      -87,66351755   \n",
       "2          Cash  no company name     41,878865584     -87,625192142   \n",
       "3          Cash  no company name     41,892507781     -87,626214906   \n",
       "4          Cash  no company name     41,899602111     -87,633308037   \n",
       "\n",
       "                        pickup_location dropoff_latitude dropoff_longitude  \\\n",
       "0  POINT (-87,6251921424 41,8788655841)              NaN               NaN   \n",
       "1   POINT (-87,6635175498 41,874005383)      41,96581197     -87,655878786   \n",
       "2  POINT (-87,6251921424 41,8788655841)     41,794090253     -87,592310855   \n",
       "3  POINT (-87,6262149064 41,8925077809)     41,859349715     -87,617358006   \n",
       "4   POINT (-87,6333080367 41,899602111)              NaN               NaN   \n",
       "\n",
       "                      dropoff_location  year month  \n",
       "0                                  NaN  2013    10  \n",
       "1   POINT (-87,6558787862 41,96581197)  2013    10  \n",
       "2   POINT (-87,592310855 41,794090253)  2013    10  \n",
       "3  POINT (-87,6173580061 41,859349715)  2013    10  \n",
       "4                                  NaN  2013    10  \n",
       "\n",
       "[5 rows x 25 columns]"
      ]
     },
     "execution_count": 3,
     "metadata": {},
     "output_type": "execute_result"
    }
   ],
   "source": [
    "taxi_data = pd.read_csv(\"taxi_dane.csv\")\n",
    "print(\"Ilość wszystkich wprzejazdów w zbiorze danych:\", len(taxi_data))\n",
    "taxi_data.head()"
   ]
  },
  {
   "cell_type": "markdown",
   "metadata": {},
   "source": [
    "#### **Położenie geograficzne**\n",
    "Ciekawym elementem zbioru danych jest obecność informacji o szerokości i wysokości geograficznej. <br>\n",
    "Po sprawdzeniu paru lokalizacji dochodzę do wniosku, iż analizowany zbiór danych przejazdów taksówkowych jest z <br>\n",
    "Chicago w USA. Tym samym, interpertując wartości pieniężne będę używać dolarów amerykańskich - USD."
   ]
  },
  {
   "cell_type": "markdown",
   "metadata": {},
   "source": [
    "#### **Analiza typów zmiennych**"
   ]
  },
  {
   "cell_type": "code",
   "execution_count": 4,
   "metadata": {},
   "outputs": [
    {
     "data": {
      "text/plain": [
       "unique_key                 object\n",
       "taxi_id                    object\n",
       "trip_start_timestamp       object\n",
       "trip_end_timestamp         object\n",
       "trip_seconds              float64\n",
       "trip_miles                float64\n",
       "pickup_census_tract       float64\n",
       "dropoff_census_tract      float64\n",
       "pickup_community_area      object\n",
       "dropoff_community_area     object\n",
       "fare                      float64\n",
       "tips                      float64\n",
       "tolls                     float64\n",
       "extras                    float64\n",
       "trip_total                float64\n",
       "payment_type               object\n",
       "company                    object\n",
       "pickup_latitude            object\n",
       "pickup_longitude           object\n",
       "pickup_location            object\n",
       "dropoff_latitude           object\n",
       "dropoff_longitude          object\n",
       "dropoff_location           object\n",
       "year                        int64\n",
       "month                       int64\n",
       "dtype: object"
      ]
     },
     "execution_count": 4,
     "metadata": {},
     "output_type": "execute_result"
    }
   ],
   "source": [
    "taxi_data.dtypes"
   ]
  },
  {
   "cell_type": "code",
   "execution_count": 5,
   "metadata": {},
   "outputs": [],
   "source": [
    "# zamiana data na format datetime, celem umożliwienia dalszych analiz\n",
    "taxi_data[\"trip_start_timestamp\"] = pd.to_datetime(taxi_data[\"trip_start_timestamp\"].str[:-4])\n",
    "taxi_data[\"trip_end_timestamp\"] = pd.to_datetime(taxi_data[\"trip_end_timestamp\"].str[:-4])"
   ]
  },
  {
   "cell_type": "markdown",
   "metadata": {},
   "source": [
    "**Wnioski**\n",
    "- Kolumna `unique_key` reprezentuje id każdej trasy i może posłużyć do ich zliczania\n",
    "- `taxi_id` reprezentuje pojedyncze taksówki\n",
    "- Kolumny opisujące czas startu i końca (odpowiednio: `trip_start_timestamp` i `trip_end_timestamp`) podróży wymagały dostosowania <br>\n",
    "(zmiana formatu na datetime)\n",
    "- Pozostałe kolumny, takie jak na przykład `fare`, `tips`, `trip_miles` zostały zapisane w formacie float co jest bardzo dobrą informacją <br>\n",
    "ponieważ nie będzie wymagane ich czyszczenie"
   ]
  },
  {
   "cell_type": "markdown",
   "metadata": {},
   "source": [
    "#### **Brakujące wartości**"
   ]
  },
  {
   "cell_type": "code",
   "execution_count": 6,
   "metadata": {},
   "outputs": [
    {
     "data": {
      "text/plain": [
       "unique_key                    0\n",
       "taxi_id                       0\n",
       "trip_start_timestamp          0\n",
       "trip_end_timestamp            0\n",
       "trip_seconds                  9\n",
       "trip_miles                    0\n",
       "pickup_census_tract       54132\n",
       "dropoff_census_tract      74160\n",
       "pickup_community_area         0\n",
       "dropoff_community_area        0\n",
       "fare                          1\n",
       "tips                          1\n",
       "tolls                     11461\n",
       "extras                        1\n",
       "trip_total                    1\n",
       "payment_type                  0\n",
       "company                       0\n",
       "pickup_latitude           11514\n",
       "pickup_longitude          11514\n",
       "pickup_location           11514\n",
       "dropoff_latitude          44885\n",
       "dropoff_longitude         44885\n",
       "dropoff_location          44885\n",
       "year                          0\n",
       "month                         0\n",
       "dtype: int64"
      ]
     },
     "execution_count": 6,
     "metadata": {},
     "output_type": "execute_result"
    }
   ],
   "source": [
    "taxi_data.isna().sum()"
   ]
  },
  {
   "cell_type": "code",
   "execution_count": 7,
   "metadata": {},
   "outputs": [],
   "source": [
    "# usunięcie wadliwego rekordu\n",
    "taxi_data = taxi_data[~taxi_data.fare.isna()]"
   ]
  },
  {
   "cell_type": "markdown",
   "metadata": {},
   "source": [
    "**Wnioski**\n",
    "- Znane jest: id taksówki, start i koniec podróży, dystans i sposób płatności dla każdego przejazdu\n",
    "- Nie jest znana jedna opłata za przejazd, biorąc pod uwagę wielkość zbioru danych zdecydowałem się wyłączyć z analizy ten rekord <br>\n",
    "Co więcej, rozwiązuje to problem jednej brakującej wartości dla napiwka i całkowitej opłaty\n",
    "- Dobrą informacją jest fakt, iż znamy wszystkie lokalizacje \"pickup\" i \"dropoff\""
   ]
  },
  {
   "cell_type": "markdown",
   "metadata": {},
   "source": [
    "#### **Sprawdzenie unikalnych wartości**\n",
    "Sprawdzenie unikalnych wartości i ich zliczenie pozwala szybko wykryć ewentualne problemy ze zmiennymi. <br>\n",
    "Skupię się na zmiennych jakościowych, ponieważ zwykle wystepuje w nich najwięcej błedów / niezrozumiałych wartości."
   ]
  },
  {
   "cell_type": "code",
   "execution_count": 8,
   "metadata": {},
   "outputs": [
    {
     "name": "stdout",
     "output_type": "stream",
     "text": [
      "Cash           74561\n",
      "Credit Card    25377\n",
      "Pcard             38\n",
      "Prcard            23\n",
      "Name: payment_type, dtype: int64\n",
      "\n",
      "\n",
      "no company name              88479\n",
      "303 Taxi                      6177\n",
      "Metro Group                   5282\n",
      "Sun Taxi                        31\n",
      "Globe Taxi                      12\n",
      "Chicago Carriage Cab Corp        6\n",
      "City Service                     4\n",
      "Medallion Leasin                 4\n",
      "Flash Cab                        2\n",
      "Blue Diamond                     1\n",
      "Chicago Taxicab                  1\n",
      "Name: company, dtype: int64\n",
      "\n",
      "\n"
     ]
    }
   ],
   "source": [
    "q_columns = [\"payment_type\", \"company\"]\n",
    "\n",
    "for col in q_columns:\n",
    "    print(taxi_data[col].value_counts())\n",
    "    print(\"\\n\")"
   ]
  },
  {
   "cell_type": "markdown",
   "metadata": {},
   "source": [
    "**Wnioski**\n",
    "- W przypadku `payment_type`, wszystkie pojawiające się unikalane wartości wydają się mieć sens. <br> \n",
    "Chociaż wartości: \"Pcard\" i \"Prcard\" zdają się opisywać to samą formę: karty prepaid albo purchasing cards. Jendakże bez odpowiedniej dokumnetacji, <br>\n",
    "jest to niemożliwe do zweryfikowania. Możliwe, że dla organizacji zbierającej te dane rzeczywiście są to różne sposoby płatności, <br>\n",
    "dlatego nie zamierzam ich zmieniać\n",
    "<br>\n",
    "<br>\n",
    "- Ze zmienna `company` jest problem. Podczas badania brakujacych wartości kolumna nie przykuła mojej uwagi (0 braków). <br>\n",
    "Jednak po dokładnym zbadaniu widać, że dla większości przejazdów firma taksówki nie jest określona. Trzeba to będzie uwzględnić w <br>\n",
    "w przyszłych ewentualnych analizach tej zmiennej"
   ]
  },
  {
   "cell_type": "markdown",
   "metadata": {},
   "source": [
    "#### **Usunięcie *ukrytych* brakuących wartości**\n",
    "Sprawdzenie brakujących wartości nie wykazało braków dla kluczowych zmiennych takich jak `fare`, `trip_miles` itd. <br>\n",
    "Niestety nie została wykluczona możliwość, że istnieją rekordy z np. samymi zerowymi wartościami. <br>\n",
    "W tym kroku zmaierzam spawdzić ich ilość i je usunąć. Nie ma sensu analizowąc pustych danych.\n",
    "- szukam przejzadów z `trip_miles` lub  `trip_seconds` równymi 0\n",
    "- osobno szukam ilość przejazdów bez wartości `fare`"
   ]
  },
  {
   "cell_type": "code",
   "execution_count": 9,
   "metadata": {},
   "outputs": [
    {
     "name": "stdout",
     "output_type": "stream",
     "text": [
      "Rekordy danych bez dystansu i czasu: 5533\n",
      "Rekordy danych bez informacji o opłacie: 80\n",
      "Łączna ilość rekordów po czyszczeniu danych: 94466\n"
     ]
    }
   ],
   "source": [
    "# sprawdzenie i aktualizacja datasetu\n",
    "no_dist_and_time = taxi_data[(taxi_data.trip_miles == 0) | (taxi_data.trip_seconds == 0)]\n",
    "no_fare = taxi_data[taxi_data.fare == 0]\n",
    "\n",
    "print(\"Rekordy danych bez dystansu i czasu:\", len(no_dist_and_time))\n",
    "print(\"Rekordy danych bez informacji o opłacie:\", len(no_fare))\n",
    "\n",
    "taxi_data = taxi_data[(taxi_data.trip_miles != 0) & (taxi_data.trip_seconds != 0)]\n",
    "taxi_data = taxi_data[taxi_data.fare != 0]\n",
    "print(\"Łączna ilość rekordów po czyszczeniu danych:\", len(taxi_data))"
   ]
  },
  {
   "cell_type": "code",
   "execution_count": 10,
   "metadata": {},
   "outputs": [
    {
     "data": {
      "text/plain": [
       "12      3.25\n",
       "22      3.25\n",
       "39      3.25\n",
       "81      3.25\n",
       "125     3.25\n",
       "268    60.00\n",
       "270     3.25\n",
       "272     3.25\n",
       "274    14.05\n",
       "309     3.25\n",
       "Name: fare, dtype: float64"
      ]
     },
     "execution_count": 10,
     "metadata": {},
     "output_type": "execute_result"
    }
   ],
   "source": [
    "no_dist_and_time.fare.head(10)"
   ]
  },
  {
   "cell_type": "markdown",
   "metadata": {},
   "source": [
    "**Wnioski i sposrzeżenia**\n",
    "- usuwam przejazdy bez danych o dystansie lub czasie lub opłacie. Pomimo, iż stanowią 5% wszystkich rekordów i analiza </br>\n",
    "może zakłócić wynik (tak naprawdę właczenie ich do analizy oznaczałoby analizę równiez przejazdów, które sie nie odbyły </br>\n",
    "co nie wydaje się sensowne)\n",
    "</br>\n",
    "</br>\n",
    "- wartym uwagi spostrzeżeniem jest fakt, iż większość rekordów bez dystansu lub czasie posiada opłatę `fare` </br>\n",
    "na poziomie 3.25 USD (mediana dla tych danych). Moża przypuszczać zatem, że jest to opłata za rezygnację z kursu. </br>\n",
    "Powyżej znajduje się pierwsze 10 opłat dla tego typu rekordów. Reasumując, jest to kolejna przesłanka, że nie pownno się tych danych </br>\n",
    "o przejazdach łączyć z pozostałymi. "
   ]
  },
  {
   "cell_type": "markdown",
   "metadata": {},
   "source": [
    "## **Analiza pojedyńczych zmiennych**\n",
    "W tej sekcji chciałbym się skupic na analizie wybranych zmiennych. </br>\n",
    "Zamierzam miedzy innymi:\n",
    "- zbadać kluczowe statystyki opisowe i rozkłady (zmienne ilościowe: `fares`, `tips`, `trip_miles`)\n",
    "- wykryć najczęstsze trasy (badanie: `pickup_community_area` i `dropoff_community_area`)\n",
    "- poznać najczęstsze godziny zamówień (badanie: `trip_start_timestamp`)\n",
    "- sprawdzenie liczby unikalnych taksówkek i ilości tras jakie wykonały "
   ]
  },
  {
   "cell_type": "code",
   "execution_count": 11,
   "metadata": {},
   "outputs": [],
   "source": [
    "# ustawienia dla wizualizacji\n",
    "sns.set_theme(style=\"darkgrid\")\n",
    "sns.set_palette(palette=\"Blues_r\")"
   ]
  },
  {
   "cell_type": "markdown",
   "metadata": {},
   "source": [
    "#### **Analiza opłat za przejazd**\n",
    "- Średnia cena za przejazd wyniosła 14,96 natomiast mediana 10,25 \n",
    "- Dysproporcja pomiędzy mediana a średną wskazuje na asymetrię prawostronną, co widać na zamieszczonym histogramie. <br>\n",
    "Jest to zrozumiałe gdyż stosunkowo rzadkie, dłuższe przejazdy będą zawyżać średnią. Wizualizacja dobrze uwidacznia, <br>\n",
    "iż większośc opłat za przejazd koncentruje się w przedziale 0-20.\n",
    "<br>\n",
    "<br>\n",
    "\n",
    "**Uwagi:** Dla zwiększenia czytelności wizualizacji, ograniczyłem dane do przejazdów, gdzie `trip_total` był <br>\n",
    "mniejszy niż 90 (ukryte zostało jedynie 200 rekordów)"
   ]
  },
  {
   "cell_type": "code",
   "execution_count": 12,
   "metadata": {},
   "outputs": [
    {
     "name": "stdout",
     "output_type": "stream",
     "text": [
      "Średnia opłata za przejazd: 15.59\n",
      "Mediana opłaty za przejazd: 10.65\n"
     ]
    },
    {
     "data": {
      "text/plain": [
       "Text(0.5, 1.0, 'Rozkład cen przejazdów')"
      ]
     },
     "execution_count": 12,
     "metadata": {},
     "output_type": "execute_result"
    },
    {
     "data": {
      "image/png": "[encoded data removed]",
      "text/plain": [
       "<Figure size 720x504 with 1 Axes>"
      ]
     },
     "metadata": {},
     "output_type": "display_data"
    }
   ],
   "source": [
    "taxi_data = taxi_data[taxi_data.fare < 90]\n",
    "print(\"Średnia opłata za przejazd:\", round(np.mean(taxi_data.trip_total),2))\n",
    "print(\"Mediana opłaty za przejazd:\", np.median(taxi_data.trip_total))\n",
    "\n",
    "plt.figure(figsize = (10, 7))\n",
    "sns.histplot(taxi_data, x=\"fare\", binwidth=1)\n",
    "plt.title(\"Rozkład cen przejazdów\")"
   ]
  },
  {
   "cell_type": "markdown",
   "metadata": {},
   "source": [
    "#### **Napiwki i ich wpływ na przychody**\n",
    "- Około co czwarty klient zdecydowany był zostawić napiwek za przejazd\n",
    "- Średnia wartość napiwka wyniosła 1,33 \n",
    "- Przychód uzyskany z napiwków (suma) stanowił jedynie 0,06 % przychodów ogółem"
   ]
  },
  {
   "cell_type": "code",
   "execution_count": 13,
   "metadata": {},
   "outputs": [
    {
     "name": "stdout",
     "output_type": "stream",
     "text": [
      "W jakim procencie przejazdów klient zdecydował się udzielić napiwek: 24.16 %\n",
      "Średnia wartość udzielonego napiwku: 1.04\n",
      "Przychód z napiwków jako część łącznych przychodów 0.06 %\n"
     ]
    }
   ],
   "source": [
    "taxi_data[\"tips_percent\"] = taxi_data[\"tips\"] / taxi_data[\"fare\"]\n",
    "\n",
    "tips_percent = len(taxi_data[taxi_data.tips != 0])/len(taxi_data) * 100\n",
    "average_tip = np.mean(taxi_data[\"tips_percent\"])\n",
    "tip_revenue_share = sum(taxi_data.tips)/sum(taxi_data.trip_total)\n",
    "\n",
    "print(\"W jakim procencie przejazdów klient zdecydował się udzielić napiwek:\", round(tips_percent, 2), \"%\")\n",
    "print(\"Średnia wartość udzielonego napiwku:\", round(average_tip, 2))\n",
    "print(\"Przychód z napiwków jako część łącznych przychodów\", round(tip_revenue_share, 2), \"%\")"
   ]
  },
  {
   "cell_type": "markdown",
   "metadata": {},
   "source": [
    "#### **Dystans podróży**\n",
    "- Dane wskazują, iż w przejazdach dominują bardzo krótkie podróże (mediana = 2.1 mili) \n",
    "- Ponownie na załączonym histogramie możemy dostrzec asymetrię prawostronną co tylko podkreśla, że <br>\n",
    "duża większość podróży skoncentrowana jest na dystansie nie przekraczającym 10 mil\n",
    "<br>\n",
    "<br>\n",
    "\n",
    "**Uwagi:** Dla zwiększenia czytelności wizualizacji, ograniczyłem dane do przejazdów, gdzie `trip_miles` był <br>\n",
    "mniejszy niż 50 (ukryte zostało około 800 rekordów, czyli mniej niż 1% wszystkich danych)"
   ]
  },
  {
   "cell_type": "code",
   "execution_count": 14,
   "metadata": {},
   "outputs": [
    {
     "name": "stdout",
     "output_type": "stream",
     "text": [
      "94240\n",
      "Średnia dystans przejazdu: 4.33\n",
      "Mediana dystansu przejazdu: 2.3\n"
     ]
    },
    {
     "data": {
      "text/plain": [
       "Text(0.5, 1.0, 'Rozkład dystansu przejazdów')"
      ]
     },
     "execution_count": 14,
     "metadata": {},
     "output_type": "execute_result"
    },
    {
     "data": {
      "image/png": "[encoded data removed]",
      "text/plain": [
       "<Figure size 720x504 with 1 Axes>"
      ]
     },
     "metadata": {},
     "output_type": "display_data"
    }
   ],
   "source": [
    "taxi_data = taxi_data[taxi_data.trip_miles < 50]\n",
    "print(len(taxi_data))\n",
    "print(\"Średnia dystans przejazdu:\", round(np.mean(taxi_data.trip_miles),2))\n",
    "print(\"Mediana dystansu przejazdu:\", np.median(taxi_data.trip_miles))\n",
    "\n",
    "plt.figure(figsize = (10, 7))\n",
    "sns.histplot(taxi_data, x=\"trip_miles\", binwidth=1)\n",
    "plt.title(\"Rozkład dystansu przejazdów\")"
   ]
  },
  {
   "cell_type": "markdown",
   "metadata": {},
   "source": [
    "#### **Najczęściej wybierane trasy**\n",
    "- Do wyznaczenia najczęstszych tras i dochodów jakie generują stworzyłem osobną kolumnę - `pickup_dropoff`, <br>\n",
    "będącą połaczeniem `dropoff_community_area` i `pickup_community_area`.\n",
    "- Dzięki temu rozwiązaniu, jestem w stanie pogrupować i zliczyć przejazdy dla każdej trasy. Pierwsza tabela poniżej <br>\n",
    "przedstawia zestawienie tras i liczby przejazdów\n",
    "- Załączyłem dodatkowo wykres słupkowy ilustrujący top 5 najcześciej wykorzystywanych tras\n",
    "- Okazuje się, że dominują przejazdy z dzielnic poza miastem do również dzielnic pozamiejskich, na drugin miejscu znalazły się <br>\n",
    "prejazdy z dystryku/obszaru 8 do obszarów poza miejskich"
   ]
  },
  {
   "cell_type": "code",
   "execution_count": 15,
   "metadata": {},
   "outputs": [],
   "source": [
    "# dodanie kolumny pickup_dropoff\n",
    "taxi_data[\"pickup_community_area\"] = taxi_data[\"pickup_community_area\"].apply(lambda x: str(x))\n",
    "taxi_data[\"dropoff_community_area\"] = taxi_data[\"dropoff_community_area\"].apply(lambda x: str(x))\n",
    "taxi_data[\"pickup_dropoff\"] = taxi_data[\"pickup_community_area\"] + \" - \" + taxi_data[\"dropoff_community_area\"]"
   ]
  },
  {
   "cell_type": "code",
   "execution_count": 16,
   "metadata": {},
   "outputs": [
    {
     "data": {
      "text/html": [
       "<div>\n",
       "<style scoped>\n",
       "    .dataframe tbody tr th:only-of-type {\n",
       "        vertical-align: middle;\n",
       "    }\n",
       "\n",
       "    .dataframe tbody tr th {\n",
       "        vertical-align: top;\n",
       "    }\n",
       "\n",
       "    .dataframe thead th {\n",
       "        text-align: right;\n",
       "    }\n",
       "</style>\n",
       "<table border=\"1\" class=\"dataframe\">\n",
       "  <thead>\n",
       "    <tr style=\"text-align: right;\">\n",
       "      <th></th>\n",
       "      <th>index</th>\n",
       "      <th>pickup_dropoff</th>\n",
       "    </tr>\n",
       "  </thead>\n",
       "  <tbody>\n",
       "    <tr>\n",
       "      <th>0</th>\n",
       "      <td>out of town - out of town</td>\n",
       "      <td>8569</td>\n",
       "    </tr>\n",
       "    <tr>\n",
       "      <th>1</th>\n",
       "      <td>8 - out of town</td>\n",
       "      <td>8409</td>\n",
       "    </tr>\n",
       "    <tr>\n",
       "      <th>2</th>\n",
       "      <td>76 - out of town</td>\n",
       "      <td>6450</td>\n",
       "    </tr>\n",
       "    <tr>\n",
       "      <th>3</th>\n",
       "      <td>8 - 8</td>\n",
       "      <td>4843</td>\n",
       "    </tr>\n",
       "    <tr>\n",
       "      <th>4</th>\n",
       "      <td>32 - out of town</td>\n",
       "      <td>4629</td>\n",
       "    </tr>\n",
       "    <tr>\n",
       "      <th>5</th>\n",
       "      <td>8 - 33</td>\n",
       "      <td>4242</td>\n",
       "    </tr>\n",
       "    <tr>\n",
       "      <th>6</th>\n",
       "      <td>32 - 33</td>\n",
       "      <td>3888</td>\n",
       "    </tr>\n",
       "    <tr>\n",
       "      <th>7</th>\n",
       "      <td>6 - 8</td>\n",
       "      <td>2999</td>\n",
       "    </tr>\n",
       "    <tr>\n",
       "      <th>8</th>\n",
       "      <td>7 - 8</td>\n",
       "      <td>2617</td>\n",
       "    </tr>\n",
       "    <tr>\n",
       "      <th>9</th>\n",
       "      <td>8 - 28</td>\n",
       "      <td>2448</td>\n",
       "    </tr>\n",
       "  </tbody>\n",
       "</table>\n",
       "</div>"
      ],
      "text/plain": [
       "                       index  pickup_dropoff\n",
       "0  out of town - out of town            8569\n",
       "1            8 - out of town            8409\n",
       "2           76 - out of town            6450\n",
       "3                      8 - 8            4843\n",
       "4           32 - out of town            4629\n",
       "5                     8 - 33            4242\n",
       "6                    32 - 33            3888\n",
       "7                      6 - 8            2999\n",
       "8                      7 - 8            2617\n",
       "9                     8 - 28            2448"
      ]
     },
     "execution_count": 16,
     "metadata": {},
     "output_type": "execute_result"
    }
   ],
   "source": [
    "# naczęstsze trasy\n",
    "top_routes = taxi_data[\"pickup_dropoff\"].value_counts()\n",
    "top_routes.reset_index().head(10)"
   ]
  },
  {
   "cell_type": "code",
   "execution_count": 17,
   "metadata": {},
   "outputs": [
    {
     "data": {
      "text/plain": [
       "Text(0.5, 1.0, 'Najczęstsze trasy przejazdów')"
      ]
     },
     "execution_count": 17,
     "metadata": {},
     "output_type": "execute_result"
    },
    {
     "data": {
      "image/png": "[encoded data removed]",
      "text/plain": [
       "<Figure size 720x504 with 1 Axes>"
      ]
     },
     "metadata": {},
     "output_type": "display_data"
    }
   ],
   "source": [
    "plt.figure(figsize = (10, 7))\n",
    "sns.barplot(data=top_routes.reset_index()[:5], x=\"index\", y=\"pickup_dropoff\")\n",
    "plt.xticks(rotation=10)\n",
    "plt.title(\"Najczęstsze trasy przejazdów\")"
   ]
  },
  {
   "cell_type": "markdown",
   "metadata": {},
   "source": [
    "#### **Godziny szczytu**\n",
    "- W celu sprawdzenia ilości przejazdów według danej godziny utworzyłem dedykowaną kolumnę `trip_hour` <br>\n",
    "by umożliwić grupowanie\n",
    "<br>\n",
    "<br>\n",
    "- w tabeli poniżej znajdują się dokładne ilości przejazdów, zależnie od godziny\n",
    "- można zaryzykowac stwierdzenie, że rozkład jest bi modaly - w godzinach porannych widać znaczący wzrost przejazdów <br>\n",
    "wywołany najpewniej dojazdami do pracy, poźniej natężenie się lekko zmniejsza by ponmowmie zacząć rosnąć i osiągnąć szczyt w godzinach 17-20. <br>\n",
    "Zdecydowanie wyższa ilość przejazdów w godzinnach wieczornych spowodowana jest najpewniej powrotami z pracy. \n",
    "<br>\n",
    "<br>\n",
    "- Poniżej znajduję się wizualizacja rozkładu przejazdów, gdzie widać opisaną wyżej zależność. "
   ]
  },
  {
   "cell_type": "code",
   "execution_count": 18,
   "metadata": {},
   "outputs": [
    {
     "data": {
      "text/html": [
       "<div>\n",
       "<style scoped>\n",
       "    .dataframe tbody tr th:only-of-type {\n",
       "        vertical-align: middle;\n",
       "    }\n",
       "\n",
       "    .dataframe tbody tr th {\n",
       "        vertical-align: top;\n",
       "    }\n",
       "\n",
       "    .dataframe thead th {\n",
       "        text-align: right;\n",
       "    }\n",
       "</style>\n",
       "<table border=\"1\" class=\"dataframe\">\n",
       "  <thead>\n",
       "    <tr style=\"text-align: right;\">\n",
       "      <th></th>\n",
       "      <th>trip_hour</th>\n",
       "      <th>num_rides</th>\n",
       "    </tr>\n",
       "  </thead>\n",
       "  <tbody>\n",
       "    <tr>\n",
       "      <th>0</th>\n",
       "      <td>0</td>\n",
       "      <td>2786</td>\n",
       "    </tr>\n",
       "    <tr>\n",
       "      <th>1</th>\n",
       "      <td>1</td>\n",
       "      <td>2371</td>\n",
       "    </tr>\n",
       "    <tr>\n",
       "      <th>2</th>\n",
       "      <td>2</td>\n",
       "      <td>1848</td>\n",
       "    </tr>\n",
       "    <tr>\n",
       "      <th>3</th>\n",
       "      <td>3</td>\n",
       "      <td>1137</td>\n",
       "    </tr>\n",
       "    <tr>\n",
       "      <th>4</th>\n",
       "      <td>4</td>\n",
       "      <td>870</td>\n",
       "    </tr>\n",
       "    <tr>\n",
       "      <th>5</th>\n",
       "      <td>5</td>\n",
       "      <td>1214</td>\n",
       "    </tr>\n",
       "    <tr>\n",
       "      <th>6</th>\n",
       "      <td>6</td>\n",
       "      <td>2419</td>\n",
       "    </tr>\n",
       "    <tr>\n",
       "      <th>7</th>\n",
       "      <td>7</td>\n",
       "      <td>3733</td>\n",
       "    </tr>\n",
       "    <tr>\n",
       "      <th>8</th>\n",
       "      <td>8</td>\n",
       "      <td>4561</td>\n",
       "    </tr>\n",
       "    <tr>\n",
       "      <th>9</th>\n",
       "      <td>9</td>\n",
       "      <td>4876</td>\n",
       "    </tr>\n",
       "    <tr>\n",
       "      <th>10</th>\n",
       "      <td>10</td>\n",
       "      <td>4342</td>\n",
       "    </tr>\n",
       "    <tr>\n",
       "      <th>11</th>\n",
       "      <td>11</td>\n",
       "      <td>4324</td>\n",
       "    </tr>\n",
       "    <tr>\n",
       "      <th>12</th>\n",
       "      <td>12</td>\n",
       "      <td>4445</td>\n",
       "    </tr>\n",
       "    <tr>\n",
       "      <th>13</th>\n",
       "      <td>13</td>\n",
       "      <td>4485</td>\n",
       "    </tr>\n",
       "    <tr>\n",
       "      <th>14</th>\n",
       "      <td>14</td>\n",
       "      <td>4561</td>\n",
       "    </tr>\n",
       "    <tr>\n",
       "      <th>15</th>\n",
       "      <td>15</td>\n",
       "      <td>5015</td>\n",
       "    </tr>\n",
       "    <tr>\n",
       "      <th>16</th>\n",
       "      <td>16</td>\n",
       "      <td>5230</td>\n",
       "    </tr>\n",
       "    <tr>\n",
       "      <th>17</th>\n",
       "      <td>17</td>\n",
       "      <td>5982</td>\n",
       "    </tr>\n",
       "    <tr>\n",
       "      <th>18</th>\n",
       "      <td>18</td>\n",
       "      <td>6437</td>\n",
       "    </tr>\n",
       "    <tr>\n",
       "      <th>19</th>\n",
       "      <td>19</td>\n",
       "      <td>6158</td>\n",
       "    </tr>\n",
       "    <tr>\n",
       "      <th>20</th>\n",
       "      <td>20</td>\n",
       "      <td>5115</td>\n",
       "    </tr>\n",
       "    <tr>\n",
       "      <th>21</th>\n",
       "      <td>21</td>\n",
       "      <td>4629</td>\n",
       "    </tr>\n",
       "    <tr>\n",
       "      <th>22</th>\n",
       "      <td>22</td>\n",
       "      <td>4180</td>\n",
       "    </tr>\n",
       "    <tr>\n",
       "      <th>23</th>\n",
       "      <td>23</td>\n",
       "      <td>3522</td>\n",
       "    </tr>\n",
       "  </tbody>\n",
       "</table>\n",
       "</div>"
      ],
      "text/plain": [
       "    trip_hour  num_rides\n",
       "0           0       2786\n",
       "1           1       2371\n",
       "2           2       1848\n",
       "3           3       1137\n",
       "4           4        870\n",
       "5           5       1214\n",
       "6           6       2419\n",
       "7           7       3733\n",
       "8           8       4561\n",
       "9           9       4876\n",
       "10         10       4342\n",
       "11         11       4324\n",
       "12         12       4445\n",
       "13         13       4485\n",
       "14         14       4561\n",
       "15         15       5015\n",
       "16         16       5230\n",
       "17         17       5982\n",
       "18         18       6437\n",
       "19         19       6158\n",
       "20         20       5115\n",
       "21         21       4629\n",
       "22         22       4180\n",
       "23         23       3522"
      ]
     },
     "execution_count": 18,
     "metadata": {},
     "output_type": "execute_result"
    }
   ],
   "source": [
    "taxi_data[\"trip_hour\"] = taxi_data[\"trip_start_timestamp\"].apply(lambda x: x.hour)\n",
    "rides_during_hour = taxi_data.groupby(\"trip_hour\")[\"unique_key\"].agg(len)\n",
    "rides_during_hour = rides_during_hour.reset_index()\n",
    "rides_during_hour.columns = rides_during_hour.columns.str.replace('unique_key', 'num_rides')\n",
    "rides_during_hour"
   ]
  },
  {
   "cell_type": "code",
   "execution_count": 19,
   "metadata": {},
   "outputs": [
    {
     "data": {
      "text/plain": [
       "Text(0.5, 1.0, 'Liczba przejazdów wg danej godziny')"
      ]
     },
     "execution_count": 19,
     "metadata": {},
     "output_type": "execute_result"
    },
    {
     "data": {
      "image/png": "[encoded data removed]",
      "text/plain": [
       "<Figure size 720x504 with 1 Axes>"
      ]
     },
     "metadata": {},
     "output_type": "display_data"
    }
   ],
   "source": [
    "plt.figure(figsize = (10, 7))\n",
    "sns.barplot(data=rides_during_hour, x=\"trip_hour\", y=\"num_rides\")\n",
    "plt.title(\"Liczba przejazdów wg danej godziny\")"
   ]
  },
  {
   "cell_type": "markdown",
   "metadata": {},
   "source": [
    "#### **Analiza taksówek**\n",
    "- Zbiór danych opisuje przejazdy, które wykonywało 1646 taksówek\n",
    "- Poniższa tabla prezentuje ilośc przejazdów zależnie od taksówki (wg `taxi_id`). Dane zostałe posortowane malejąco. <br>\n",
    "Możemy zauważyć, że taksówka, która wykonała najwięcej kursów ma ich 2138. \n"
   ]
  },
  {
   "cell_type": "code",
   "execution_count": 20,
   "metadata": {},
   "outputs": [
    {
     "name": "stdout",
     "output_type": "stream",
     "text": [
      "Liczba unikalnych taksówek: 1646\n"
     ]
    },
    {
     "data": {
      "text/html": [
       "<div>\n",
       "<style scoped>\n",
       "    .dataframe tbody tr th:only-of-type {\n",
       "        vertical-align: middle;\n",
       "    }\n",
       "\n",
       "    .dataframe tbody tr th {\n",
       "        vertical-align: top;\n",
       "    }\n",
       "\n",
       "    .dataframe thead th {\n",
       "        text-align: right;\n",
       "    }\n",
       "</style>\n",
       "<table border=\"1\" class=\"dataframe\">\n",
       "  <thead>\n",
       "    <tr style=\"text-align: right;\">\n",
       "      <th></th>\n",
       "      <th>taxi_id</th>\n",
       "      <th>unique_key</th>\n",
       "    </tr>\n",
       "  </thead>\n",
       "  <tbody>\n",
       "    <tr>\n",
       "      <th>693</th>\n",
       "      <td>6adb02556453c79096b14273579cbc9db7df43dd51e443...</td>\n",
       "      <td>2138</td>\n",
       "    </tr>\n",
       "    <tr>\n",
       "      <th>166</th>\n",
       "      <td>1897ed17bef32c8721aaeffd8239d3e1a49222c0eb602b...</td>\n",
       "      <td>1808</td>\n",
       "    </tr>\n",
       "    <tr>\n",
       "      <th>293</th>\n",
       "      <td>2e4af8d275dbd5afc012606bc94354705d8a438dbb10d7...</td>\n",
       "      <td>1399</td>\n",
       "    </tr>\n",
       "    <tr>\n",
       "      <th>1131</th>\n",
       "      <td>b4e899d3fb518368ac4f53a02668b80a45739527af6ead...</td>\n",
       "      <td>1395</td>\n",
       "    </tr>\n",
       "    <tr>\n",
       "      <th>1257</th>\n",
       "      <td>c5b1c846a512e318ac1ef42961a089355a5ad698a9e4ba...</td>\n",
       "      <td>1386</td>\n",
       "    </tr>\n",
       "  </tbody>\n",
       "</table>\n",
       "</div>"
      ],
      "text/plain": [
       "                                                taxi_id  unique_key\n",
       "693   6adb02556453c79096b14273579cbc9db7df43dd51e443...        2138\n",
       "166   1897ed17bef32c8721aaeffd8239d3e1a49222c0eb602b...        1808\n",
       "293   2e4af8d275dbd5afc012606bc94354705d8a438dbb10d7...        1399\n",
       "1131  b4e899d3fb518368ac4f53a02668b80a45739527af6ead...        1395\n",
       "1257  c5b1c846a512e318ac1ef42961a089355a5ad698a9e4ba...        1386"
      ]
     },
     "execution_count": 20,
     "metadata": {},
     "output_type": "execute_result"
    }
   ],
   "source": [
    "unique_taxi = taxi_data.taxi_id.nunique()\n",
    "print(\"Liczba unikalnych taksówek:\" , unique_taxi)\n",
    "rides_per_taxi = taxi_data.groupby(\"taxi_id\")[\"unique_key\"].agg(len)\n",
    "rides_per_taxi = rides_per_taxi.reset_index().sort_values(by=\"unique_key\", ascending=False)\n",
    "rides_per_taxi.head(5)"
   ]
  },
  {
   "cell_type": "markdown",
   "metadata": {},
   "source": [
    "## **Analiza relacji między zmiennymi**\n",
    "W tej części chiałbym się zając analizą związków miedzy zmiennymi. Zamierzam skoncentrować się na: <br>\n",
    "- sprawdzeniu jakie trasy generują największe przychody\n",
    "- zbadaniu korelacji pomiędzy zmiennymi ilościowymi a wysokoścą opłaty `trip_total`\n",
    "- odkryciu czy napiwki częsciej otrzymywane są przy płatnościach kartą czy przy płatnosciach gotówkowych\n"
   ]
  },
  {
   "cell_type": "markdown",
   "metadata": {},
   "source": [
    "#### **Trasy generujące największe przychody**\n",
    "- Tabela zawiera informacje o przychodach, jakie generują poszczególne trasy, i jaka jest średnia opłata na nich. <br>\n",
    "Dane zostałe posortowane majejąco, tym razem według sumy przychodów - `revenue`\n",
    "- Możemy zauważyć że największy przychów wygenerowała trasa \"76 - out of town\" - 2,7 mln USD, <br>\n",
    "co ciekaw nie była to typ przejazdu z ich największą ilością. \n",
    "<br>\n",
    "<br>\n",
    "- Natomiast trasa, która charakteryzowała się najwyższą średnią opłatą była pomiędzy obszarami <br>\n",
    "\"76 - 41\" (`mean_fare` wynoszące 57,14). Wykluczyłem trasy z mniejszą ilością przejazdów `number_of_rides`<br>\n",
    "niż 50 by wykluczyć wartości skrajne. "
   ]
  },
  {
   "cell_type": "code",
   "execution_count": 21,
   "metadata": {},
   "outputs": [
    {
     "data": {
      "text/html": [
       "<div>\n",
       "<style scoped>\n",
       "    .dataframe tbody tr th:only-of-type {\n",
       "        vertical-align: middle;\n",
       "    }\n",
       "\n",
       "    .dataframe tbody tr th {\n",
       "        vertical-align: top;\n",
       "    }\n",
       "\n",
       "    .dataframe thead th {\n",
       "        text-align: right;\n",
       "    }\n",
       "</style>\n",
       "<table border=\"1\" class=\"dataframe\">\n",
       "  <thead>\n",
       "    <tr style=\"text-align: right;\">\n",
       "      <th></th>\n",
       "      <th>pickup_dropoff</th>\n",
       "      <th>revenue</th>\n",
       "      <th>mean_fare</th>\n",
       "      <th>number_of_rides</th>\n",
       "    </tr>\n",
       "  </thead>\n",
       "  <tbody>\n",
       "    <tr>\n",
       "      <th>0</th>\n",
       "      <td>76 - out of town</td>\n",
       "      <td>270528.39</td>\n",
       "      <td>41.94</td>\n",
       "      <td>6450</td>\n",
       "    </tr>\n",
       "    <tr>\n",
       "      <th>1</th>\n",
       "      <td>8 - out of town</td>\n",
       "      <td>134029.92</td>\n",
       "      <td>15.94</td>\n",
       "      <td>8409</td>\n",
       "    </tr>\n",
       "    <tr>\n",
       "      <th>2</th>\n",
       "      <td>out of town - out of town</td>\n",
       "      <td>92920.59</td>\n",
       "      <td>10.84</td>\n",
       "      <td>8569</td>\n",
       "    </tr>\n",
       "    <tr>\n",
       "      <th>3</th>\n",
       "      <td>32 - out of town</td>\n",
       "      <td>77370.60</td>\n",
       "      <td>16.71</td>\n",
       "      <td>4629</td>\n",
       "    </tr>\n",
       "    <tr>\n",
       "      <th>4</th>\n",
       "      <td>8 - 33</td>\n",
       "      <td>50678.64</td>\n",
       "      <td>11.95</td>\n",
       "      <td>4242</td>\n",
       "    </tr>\n",
       "    <tr>\n",
       "      <th>5</th>\n",
       "      <td>6 - 8</td>\n",
       "      <td>39010.74</td>\n",
       "      <td>13.01</td>\n",
       "      <td>2999</td>\n",
       "    </tr>\n",
       "    <tr>\n",
       "      <th>6</th>\n",
       "      <td>56 - out of town</td>\n",
       "      <td>37241.77</td>\n",
       "      <td>39.49</td>\n",
       "      <td>943</td>\n",
       "    </tr>\n",
       "    <tr>\n",
       "      <th>7</th>\n",
       "      <td>32 - 33</td>\n",
       "      <td>37128.97</td>\n",
       "      <td>9.55</td>\n",
       "      <td>3888</td>\n",
       "    </tr>\n",
       "    <tr>\n",
       "      <th>8</th>\n",
       "      <td>28 - out of town</td>\n",
       "      <td>34890.44</td>\n",
       "      <td>17.55</td>\n",
       "      <td>1988</td>\n",
       "    </tr>\n",
       "    <tr>\n",
       "      <th>9</th>\n",
       "      <td>8 - 8</td>\n",
       "      <td>34672.65</td>\n",
       "      <td>7.16</td>\n",
       "      <td>4843</td>\n",
       "    </tr>\n",
       "  </tbody>\n",
       "</table>\n",
       "</div>"
      ],
      "text/plain": [
       "              pickup_dropoff    revenue  mean_fare  number_of_rides\n",
       "0           76 - out of town  270528.39      41.94             6450\n",
       "1            8 - out of town  134029.92      15.94             8409\n",
       "2  out of town - out of town   92920.59      10.84             8569\n",
       "3           32 - out of town   77370.60      16.71             4629\n",
       "4                     8 - 33   50678.64      11.95             4242\n",
       "5                      6 - 8   39010.74      13.01             2999\n",
       "6           56 - out of town   37241.77      39.49              943\n",
       "7                    32 - 33   37128.97       9.55             3888\n",
       "8           28 - out of town   34890.44      17.55             1988\n",
       "9                      8 - 8   34672.65       7.16             4843"
      ]
     },
     "execution_count": 21,
     "metadata": {},
     "output_type": "execute_result"
    }
   ],
   "source": [
    "# trasy które przynisły największe dochody\n",
    "top_routes_revenue = taxi_data.groupby(\"pickup_dropoff\")[\"trip_total\"].agg([sum, np.mean, len])\n",
    "top_routes_revenue = top_routes_revenue.sort_values(by=\"sum\", ascending=False).reset_index()\n",
    "top_routes_revenue.rename(columns = {'sum':'revenue', 'mean':'mean_fare', \"len\": \"number_of_rides\"}, inplace = True)\n",
    "top_routes_revenue.round(2).head(10)"
   ]
  },
  {
   "cell_type": "markdown",
   "metadata": {},
   "source": [
    "Tabela wg średniej opłaty na danej trasie przejazdu"
   ]
  },
  {
   "cell_type": "code",
   "execution_count": 22,
   "metadata": {},
   "outputs": [
    {
     "name": "stderr",
     "output_type": "stream",
     "text": [
      "C:\\Users\\budcr\\AppData\\Local\\Temp/ipykernel_12332/2799795458.py:1: UserWarning: Boolean Series key will be reindexed to match DataFrame index.\n",
      "  top_routes_revenue.sort_values(by=\"mean_fare\", ascending=False)[top_routes_revenue.number_of_rides > 50]\n"
     ]
    },
    {
     "data": {
      "text/html": [
       "<div>\n",
       "<style scoped>\n",
       "    .dataframe tbody tr th:only-of-type {\n",
       "        vertical-align: middle;\n",
       "    }\n",
       "\n",
       "    .dataframe tbody tr th {\n",
       "        vertical-align: top;\n",
       "    }\n",
       "\n",
       "    .dataframe thead th {\n",
       "        text-align: right;\n",
       "    }\n",
       "</style>\n",
       "<table border=\"1\" class=\"dataframe\">\n",
       "  <thead>\n",
       "    <tr style=\"text-align: right;\">\n",
       "      <th></th>\n",
       "      <th>pickup_dropoff</th>\n",
       "      <th>revenue</th>\n",
       "      <th>mean_fare</th>\n",
       "      <th>number_of_rides</th>\n",
       "    </tr>\n",
       "  </thead>\n",
       "  <tbody>\n",
       "    <tr>\n",
       "      <th>33</th>\n",
       "      <td>76 - 41</td>\n",
       "      <td>8115.08</td>\n",
       "      <td>57.148451</td>\n",
       "      <td>142</td>\n",
       "    </tr>\n",
       "    <tr>\n",
       "      <th>17</th>\n",
       "      <td>76 - 33</td>\n",
       "      <td>14496.08</td>\n",
       "      <td>48.481873</td>\n",
       "      <td>299</td>\n",
       "    </tr>\n",
       "    <tr>\n",
       "      <th>0</th>\n",
       "      <td>76 - out of town</td>\n",
       "      <td>270528.39</td>\n",
       "      <td>41.942386</td>\n",
       "      <td>6450</td>\n",
       "    </tr>\n",
       "    <tr>\n",
       "      <th>24</th>\n",
       "      <td>76 - 8</td>\n",
       "      <td>10932.14</td>\n",
       "      <td>41.253358</td>\n",
       "      <td>265</td>\n",
       "    </tr>\n",
       "    <tr>\n",
       "      <th>53</th>\n",
       "      <td>76 - 7</td>\n",
       "      <td>3968.90</td>\n",
       "      <td>40.089899</td>\n",
       "      <td>99</td>\n",
       "    </tr>\n",
       "    <tr>\n",
       "      <th>...</th>\n",
       "      <td>...</td>\n",
       "      <td>...</td>\n",
       "      <td>...</td>\n",
       "      <td>...</td>\n",
       "    </tr>\n",
       "    <tr>\n",
       "      <th>9</th>\n",
       "      <td>8 - 8</td>\n",
       "      <td>34672.65</td>\n",
       "      <td>7.159333</td>\n",
       "      <td>4843</td>\n",
       "    </tr>\n",
       "    <tr>\n",
       "      <th>62</th>\n",
       "      <td>6 - 6</td>\n",
       "      <td>3213.81</td>\n",
       "      <td>7.157706</td>\n",
       "      <td>449</td>\n",
       "    </tr>\n",
       "    <tr>\n",
       "      <th>56</th>\n",
       "      <td>7 - 7</td>\n",
       "      <td>3886.66</td>\n",
       "      <td>7.092445</td>\n",
       "      <td>548</td>\n",
       "    </tr>\n",
       "    <tr>\n",
       "      <th>42</th>\n",
       "      <td>28 - 28</td>\n",
       "      <td>5611.31</td>\n",
       "      <td>7.084987</td>\n",
       "      <td>792</td>\n",
       "    </tr>\n",
       "    <tr>\n",
       "      <th>27</th>\n",
       "      <td>3 - 3</td>\n",
       "      <td>10473.04</td>\n",
       "      <td>7.062063</td>\n",
       "      <td>1483</td>\n",
       "    </tr>\n",
       "  </tbody>\n",
       "</table>\n",
       "<p>117 rows × 4 columns</p>\n",
       "</div>"
      ],
      "text/plain": [
       "      pickup_dropoff    revenue  mean_fare  number_of_rides\n",
       "33           76 - 41    8115.08  57.148451              142\n",
       "17           76 - 33   14496.08  48.481873              299\n",
       "0   76 - out of town  270528.39  41.942386             6450\n",
       "24            76 - 8   10932.14  41.253358              265\n",
       "53            76 - 7    3968.90  40.089899               99\n",
       "..               ...        ...        ...              ...\n",
       "9              8 - 8   34672.65   7.159333             4843\n",
       "62             6 - 6    3213.81   7.157706              449\n",
       "56             7 - 7    3886.66   7.092445              548\n",
       "42           28 - 28    5611.31   7.084987              792\n",
       "27             3 - 3   10473.04   7.062063             1483\n",
       "\n",
       "[117 rows x 4 columns]"
      ]
     },
     "execution_count": 22,
     "metadata": {},
     "output_type": "execute_result"
    }
   ],
   "source": [
    "top_routes_revenue.sort_values(by=\"mean_fare\", ascending=False)[top_routes_revenue.number_of_rides > 50]"
   ]
  },
  {
   "cell_type": "markdown",
   "metadata": {},
   "source": [
    "#### **Badanie korelacji**\n",
    "- napotkałem na problem w obliczaniu korelacji przy użyciu `trip_seconds` dlatego stworzyłem własną kolumnę `trip_time` <br>\n",
    "w celu przeprowadzenia obliczeń. \n",
    "<br>\n",
    "<br>\n",
    "- Okazuje się, że istnieje całkiem silna korelacja dodatnia (wsp = 0.83 - współczynnik przyjmuje wartości pomiedzy -1 a 1) między opłatą <br>\n",
    "za przejazd a dystansem podróży. Jest to zrozumiałe ponieważ im dłuższa jest trasa do pokonania tym rosną koszty (np. paliwo). \n",
    "- z drugiej strony nie istnieje zbyt wyraźna korelacja liniowa między opłatą a czasem. Prawodpodobnie to dystans jest głównymn <br>\n",
    "czynnikiem >determinującym wysokość `fare`\n",
    "<br>\n",
    "<br>\n",
    "- zamieszczam również scatter plots dla ilustracji graficznej opisywaych relacji.\n"
   ]
  },
  {
   "cell_type": "code",
   "execution_count": 23,
   "metadata": {},
   "outputs": [
    {
     "name": "stdout",
     "output_type": "stream",
     "text": [
      "Korelacja pomiędzy opłatą za przejazd a zmienną trip_miles wynosi: 0.83\n",
      "Korelacja pomiędzy opłatą za przejazd a zmienną trip_time wynosi: 0.56\n"
     ]
    }
   ],
   "source": [
    "taxi_data[\"trip_time\"] = (taxi_data[\"trip_end_timestamp\"] - taxi_data[\"trip_start_timestamp\"]).astype('timedelta64[s]')\n",
    "taxi_data[\"trip_time\"].head(10)\n",
    "\n",
    "corr_columns = [\"trip_miles\", \"trip_time\"]\n",
    "for col in corr_columns:\n",
    "    coeff = np.corrcoef(taxi_data[col], taxi_data[\"fare\"])[0][1]\n",
    "    print(f\"Korelacja pomiędzy opłatą za przejazd a zmienną {col} wynosi: {coeff:.2f}\")"
   ]
  },
  {
   "cell_type": "code",
   "execution_count": 24,
   "metadata": {},
   "outputs": [
    {
     "data": {
      "text/plain": [
       "<AxesSubplot:xlabel='trip_time', ylabel='fare'>"
      ]
     },
     "execution_count": 24,
     "metadata": {},
     "output_type": "execute_result"
    },
    {
     "data": {
      "image/png": "[encoded data removed]",
      "text/plain": [
       "<Figure size 1080x720 with 2 Axes>"
      ]
     },
     "metadata": {},
     "output_type": "display_data"
    }
   ],
   "source": [
    "scatter_data = taxi_data\n",
    "\n",
    "plt.figure(figsize = (15, 10))\n",
    "plt.subplot(1, 2, 1)\n",
    "sns.scatterplot(data=taxi_data, x=\"trip_miles\", y=\"fare\")\n",
    "plt.subplot(1, 2, 2)\n",
    "sns.scatterplot(data=taxi_data, x=\"trip_time\", y=\"fare\")"
   ]
  },
  {
   "cell_type": "markdown",
   "metadata": {},
   "source": [
    "#### **Związek napiwków z formą płatności**\n",
    "- z analizowanych danych wynika, że jeśli klient był skłonny dać napiwek za przejazd to w 99,68% przypadków płacił kartą.\n",
    "- powyższa informacja mogłaby być sugestią, dla przedsiębiorstw oferujących przejazdy, by oferować płatność kartą, ponieważ zwiększa to <br>\n",
    "szanse na zwiększenie średniej wartości przejazdu a co za tym idzie przychodów.\n"
   ]
  },
  {
   "cell_type": "code",
   "execution_count": 25,
   "metadata": {},
   "outputs": [
    {
     "name": "stdout",
     "output_type": "stream",
     "text": [
      "Procent wszystkich napiwków dokonanych przy użyciu karty kredytowej: 99.68 %\n",
      "Procent wszystkich napiwków dokonanych przy użyciu gotówki: 0.31 %\n"
     ]
    }
   ],
   "source": [
    "all_tips = len(taxi_data[taxi_data.tips != 0])\n",
    "tips_card = len(taxi_data[(taxi_data.tips != 0) & (taxi_data.payment_type == \"Credit Card\")])\n",
    "tips_cash = len(taxi_data[(taxi_data.tips != 0) & (taxi_data.payment_type == \"Cash\")])\n",
    "\n",
    "print(\"Procent wszystkich napiwków dokonanych przy użyciu karty kredytowej:\", round(tips_card*100/all_tips, 2), \"%\")\n",
    "print(\"Procent wszystkich napiwków dokonanych przy użyciu gotówki:\", round(tips_cash*100/all_tips, 2), \"%\")"
   ]
  }
 ],
 "metadata": {
  "interpreter": {
   "hash": "46106a6a49a78d031a8cfc7a3fc921f974d1c810cf9e8f0f8571df645cf5118b"
  },
  "kernelspec": {
   "display_name": "Python 3.10.0 64-bit",
   "language": "python",
   "name": "python3"
  },
  "language_info": {
   "codemirror_mode": {
    "name": "ipython",
    "version": 3
   },
   "file_extension": ".py",
   "mimetype": "text/x-python",
   "name": "python",
   "nbconvert_exporter": "python",
   "pygments_lexer": "ipython3",
   "version": "3.10.0"
  },
  "orig_nbformat": 4
 },
 "nbformat": 4,
 "nbformat_minor": 2
}
